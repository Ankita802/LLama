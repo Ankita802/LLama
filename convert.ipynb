{
 "cells": [
  {
   "cell_type": "code",
   "execution_count": 2,
   "metadata": {},
   "outputs": [],
   "source": [
    "# import json \n",
    "# import csv\n",
    "import pandas "
   ]
  },
  {
   "cell_type": "code",
   "execution_count": 3,
   "metadata": {},
   "outputs": [],
   "source": [
    "dataset = pandas.read_csv('code_data.csv')"
   ]
  },
  {
   "cell_type": "code",
   "execution_count": 4,
   "metadata": {},
   "outputs": [],
   "source": [
    "# Add a new column for IDs\n",
    "dataset['ID'] = range(1, len(dataset) + 1)  # Generating IDs sequentially"
   ]
  },
  {
   "cell_type": "code",
   "execution_count": 5,
   "metadata": {},
   "outputs": [
    {
     "data": {
      "text/html": [
       "<div>\n",
       "<style scoped>\n",
       "    .dataframe tbody tr th:only-of-type {\n",
       "        vertical-align: middle;\n",
       "    }\n",
       "\n",
       "    .dataframe tbody tr th {\n",
       "        vertical-align: top;\n",
       "    }\n",
       "\n",
       "    .dataframe thead th {\n",
       "        text-align: right;\n",
       "    }\n",
       "</style>\n",
       "<table border=\"1\" class=\"dataframe\">\n",
       "  <thead>\n",
       "    <tr style=\"text-align: right;\">\n",
       "      <th></th>\n",
       "      <th>input</th>\n",
       "      <th>result</th>\n",
       "      <th>Unnamed: 2</th>\n",
       "      <th>ID</th>\n",
       "    </tr>\n",
       "  </thead>\n",
       "  <tbody>\n",
       "    <tr>\n",
       "      <th>0</th>\n",
       "      <td>As a Data user, I want to have the 12-19-2017 ...</td>\n",
       "      <td>As an AI language model, I don't have access t...</td>\n",
       "      <td>NaN</td>\n",
       "      <td>1</td>\n",
       "    </tr>\n",
       "    <tr>\n",
       "      <th>1</th>\n",
       "      <td>As a UI designer, I want to redesign the Resou...</td>\n",
       "      <td>User Story: As a UI designer, I want to redesi...</td>\n",
       "      <td>NaN</td>\n",
       "      <td>2</td>\n",
       "    </tr>\n",
       "    <tr>\n",
       "      <th>2</th>\n",
       "      <td>As a UI designer, I want to report to the Agen...</td>\n",
       "      <td>Title: User Testing Report - Enhancing Broker'...</td>\n",
       "      <td>NaN</td>\n",
       "      <td>3</td>\n",
       "    </tr>\n",
       "    <tr>\n",
       "      <th>3</th>\n",
       "      <td>As a UI designer, I want to move on to round 2...</td>\n",
       "      <td>As a UI designer, my goal is to move on to rou...</td>\n",
       "      <td>NaN</td>\n",
       "      <td>4</td>\n",
       "    </tr>\n",
       "    <tr>\n",
       "      <th>4</th>\n",
       "      <td>As a UI designer, I want to move on to round 2...</td>\n",
       "      <td>As a UI designer, I will follow these steps to...</td>\n",
       "      <td>NaN</td>\n",
       "      <td>5</td>\n",
       "    </tr>\n",
       "  </tbody>\n",
       "</table>\n",
       "</div>"
      ],
      "text/plain": [
       "                                               input  \\\n",
       "0  As a Data user, I want to have the 12-19-2017 ...   \n",
       "1  As a UI designer, I want to redesign the Resou...   \n",
       "2  As a UI designer, I want to report to the Agen...   \n",
       "3  As a UI designer, I want to move on to round 2...   \n",
       "4  As a UI designer, I want to move on to round 2...   \n",
       "\n",
       "                                              result Unnamed: 2  ID  \n",
       "0  As an AI language model, I don't have access t...        NaN   1  \n",
       "1  User Story: As a UI designer, I want to redesi...        NaN   2  \n",
       "2  Title: User Testing Report - Enhancing Broker'...        NaN   3  \n",
       "3  As a UI designer, my goal is to move on to rou...        NaN   4  \n",
       "4  As a UI designer, I will follow these steps to...        NaN   5  "
      ]
     },
     "execution_count": 5,
     "metadata": {},
     "output_type": "execute_result"
    }
   ],
   "source": [
    "dataset.head()"
   ]
  },
  {
   "cell_type": "code",
   "execution_count": 6,
   "metadata": {},
   "outputs": [],
   "source": [
    "# Reorder the columns to place the new ID column at the beginning\n",
    "dataset = dataset[['ID'] + list(dataset.columns[:-1])]"
   ]
  },
  {
   "cell_type": "code",
   "execution_count": 7,
   "metadata": {},
   "outputs": [
    {
     "data": {
      "text/html": [
       "<div>\n",
       "<style scoped>\n",
       "    .dataframe tbody tr th:only-of-type {\n",
       "        vertical-align: middle;\n",
       "    }\n",
       "\n",
       "    .dataframe tbody tr th {\n",
       "        vertical-align: top;\n",
       "    }\n",
       "\n",
       "    .dataframe thead th {\n",
       "        text-align: right;\n",
       "    }\n",
       "</style>\n",
       "<table border=\"1\" class=\"dataframe\">\n",
       "  <thead>\n",
       "    <tr style=\"text-align: right;\">\n",
       "      <th></th>\n",
       "      <th>ID</th>\n",
       "      <th>input</th>\n",
       "      <th>result</th>\n",
       "      <th>Unnamed: 2</th>\n",
       "    </tr>\n",
       "  </thead>\n",
       "  <tbody>\n",
       "    <tr>\n",
       "      <th>0</th>\n",
       "      <td>1</td>\n",
       "      <td>As a Data user, I want to have the 12-19-2017 ...</td>\n",
       "      <td>As an AI language model, I don't have access t...</td>\n",
       "      <td>NaN</td>\n",
       "    </tr>\n",
       "    <tr>\n",
       "      <th>1</th>\n",
       "      <td>2</td>\n",
       "      <td>As a UI designer, I want to redesign the Resou...</td>\n",
       "      <td>User Story: As a UI designer, I want to redesi...</td>\n",
       "      <td>NaN</td>\n",
       "    </tr>\n",
       "    <tr>\n",
       "      <th>2</th>\n",
       "      <td>3</td>\n",
       "      <td>As a UI designer, I want to report to the Agen...</td>\n",
       "      <td>Title: User Testing Report - Enhancing Broker'...</td>\n",
       "      <td>NaN</td>\n",
       "    </tr>\n",
       "    <tr>\n",
       "      <th>3</th>\n",
       "      <td>4</td>\n",
       "      <td>As a UI designer, I want to move on to round 2...</td>\n",
       "      <td>As a UI designer, my goal is to move on to rou...</td>\n",
       "      <td>NaN</td>\n",
       "    </tr>\n",
       "    <tr>\n",
       "      <th>4</th>\n",
       "      <td>5</td>\n",
       "      <td>As a UI designer, I want to move on to round 2...</td>\n",
       "      <td>As a UI designer, I will follow these steps to...</td>\n",
       "      <td>NaN</td>\n",
       "    </tr>\n",
       "  </tbody>\n",
       "</table>\n",
       "</div>"
      ],
      "text/plain": [
       "   ID                                              input  \\\n",
       "0   1  As a Data user, I want to have the 12-19-2017 ...   \n",
       "1   2  As a UI designer, I want to redesign the Resou...   \n",
       "2   3  As a UI designer, I want to report to the Agen...   \n",
       "3   4  As a UI designer, I want to move on to round 2...   \n",
       "4   5  As a UI designer, I want to move on to round 2...   \n",
       "\n",
       "                                              result Unnamed: 2  \n",
       "0  As an AI language model, I don't have access t...        NaN  \n",
       "1  User Story: As a UI designer, I want to redesi...        NaN  \n",
       "2  Title: User Testing Report - Enhancing Broker'...        NaN  \n",
       "3  As a UI designer, my goal is to move on to rou...        NaN  \n",
       "4  As a UI designer, I will follow these steps to...        NaN  "
      ]
     },
     "execution_count": 7,
     "metadata": {},
     "output_type": "execute_result"
    }
   ],
   "source": [
    "dataset.head()"
   ]
  },
  {
   "cell_type": "code",
   "execution_count": 11,
   "metadata": {},
   "outputs": [],
   "source": [
    "data = dataset[['ID', 'input', 'result']]"
   ]
  },
  {
   "cell_type": "code",
   "execution_count": 12,
   "metadata": {},
   "outputs": [
    {
     "data": {
      "text/html": [
       "<div>\n",
       "<style scoped>\n",
       "    .dataframe tbody tr th:only-of-type {\n",
       "        vertical-align: middle;\n",
       "    }\n",
       "\n",
       "    .dataframe tbody tr th {\n",
       "        vertical-align: top;\n",
       "    }\n",
       "\n",
       "    .dataframe thead th {\n",
       "        text-align: right;\n",
       "    }\n",
       "</style>\n",
       "<table border=\"1\" class=\"dataframe\">\n",
       "  <thead>\n",
       "    <tr style=\"text-align: right;\">\n",
       "      <th></th>\n",
       "      <th>ID</th>\n",
       "      <th>input</th>\n",
       "      <th>result</th>\n",
       "    </tr>\n",
       "  </thead>\n",
       "  <tbody>\n",
       "    <tr>\n",
       "      <th>0</th>\n",
       "      <td>1</td>\n",
       "      <td>As a Data user, I want to have the 12-19-2017 ...</td>\n",
       "      <td>As an AI language model, I don't have access t...</td>\n",
       "    </tr>\n",
       "    <tr>\n",
       "      <th>1</th>\n",
       "      <td>2</td>\n",
       "      <td>As a UI designer, I want to redesign the Resou...</td>\n",
       "      <td>User Story: As a UI designer, I want to redesi...</td>\n",
       "    </tr>\n",
       "    <tr>\n",
       "      <th>2</th>\n",
       "      <td>3</td>\n",
       "      <td>As a UI designer, I want to report to the Agen...</td>\n",
       "      <td>Title: User Testing Report - Enhancing Broker'...</td>\n",
       "    </tr>\n",
       "    <tr>\n",
       "      <th>3</th>\n",
       "      <td>4</td>\n",
       "      <td>As a UI designer, I want to move on to round 2...</td>\n",
       "      <td>As a UI designer, my goal is to move on to rou...</td>\n",
       "    </tr>\n",
       "    <tr>\n",
       "      <th>4</th>\n",
       "      <td>5</td>\n",
       "      <td>As a UI designer, I want to move on to round 2...</td>\n",
       "      <td>As a UI designer, I will follow these steps to...</td>\n",
       "    </tr>\n",
       "  </tbody>\n",
       "</table>\n",
       "</div>"
      ],
      "text/plain": [
       "   ID                                              input  \\\n",
       "0   1  As a Data user, I want to have the 12-19-2017 ...   \n",
       "1   2  As a UI designer, I want to redesign the Resou...   \n",
       "2   3  As a UI designer, I want to report to the Agen...   \n",
       "3   4  As a UI designer, I want to move on to round 2...   \n",
       "4   5  As a UI designer, I want to move on to round 2...   \n",
       "\n",
       "                                              result  \n",
       "0  As an AI language model, I don't have access t...  \n",
       "1  User Story: As a UI designer, I want to redesi...  \n",
       "2  Title: User Testing Report - Enhancing Broker'...  \n",
       "3  As a UI designer, my goal is to move on to rou...  \n",
       "4  As a UI designer, I will follow these steps to...  "
      ]
     },
     "execution_count": 12,
     "metadata": {},
     "output_type": "execute_result"
    }
   ],
   "source": [
    "data.head()"
   ]
  },
  {
   "cell_type": "code",
   "execution_count": 14,
   "metadata": {},
   "outputs": [],
   "source": [
    "# Write the DataFrame back to a CSV file\n",
    "data.to_csv('code_data.csv', index=False)"
   ]
  },
  {
   "cell_type": "code",
   "execution_count": 24,
   "metadata": {},
   "outputs": [
    {
     "name": "stdout",
     "output_type": "stream",
     "text": [
      "Data converted\n"
     ]
    }
   ],
   "source": [
    "import csv\n",
    "import json\n",
    "\n",
    "def csvConvert(csv_path, json_path):\n",
    "    jsonData = {}\n",
    "\n",
    "    # Open the CSV file\n",
    "    with open(csv_path, encoding='utf-8') as csvfile:\n",
    "        csvdata = csv.DictReader(csvfile)\n",
    "\n",
    "        for row in csvdata:\n",
    "            key = row['ID'] \n",
    "            jsonData[key] = row\n",
    "\n",
    "    with open(json_path, 'w', encoding='utf-8') as jsonfile:\n",
    "        jsonfile.write(json.dumps(jsonData, indent=5)) \n",
    "\n",
    "    print('Data converted')\n",
    "\n",
    "csv_path = 'code_data.csv'\n",
    "json_path = 'codeJSON.json'\n",
    "\n",
    "csvConvert(csv_path, json_path)\n"
   ]
  }
 ],
 "metadata": {
  "kernelspec": {
   "display_name": "Python 3",
   "language": "python",
   "name": "python3"
  },
  "language_info": {
   "codemirror_mode": {
    "name": "ipython",
    "version": 3
   },
   "file_extension": ".py",
   "mimetype": "text/x-python",
   "name": "python",
   "nbconvert_exporter": "python",
   "pygments_lexer": "ipython3",
   "version": "3.9.6"
  }
 },
 "nbformat": 4,
 "nbformat_minor": 2
}
